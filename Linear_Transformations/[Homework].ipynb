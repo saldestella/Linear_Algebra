{
 "cells": [
  {
   "cell_type": "markdown",
   "metadata": {},
   "source": [
    "Name: Sheena Stella A. Salde <br>\n",
    "    CS 3103: Discrete Mathematics 3"
   ]
  },
  {
   "cell_type": "markdown",
   "metadata": {},
   "source": [
    "$\\textbf{Code Challenges}$\n",
    "\n",
    "1. Develop a python function from scratch that will find the determinants of any $n \\times n$ matrix.\n",
    "\n",
    "2. Develop a python function from scratch that will find both the eigenvectors and eigenvalues of any $n \\times n$ matrix.\n",
    "\n",
    "3. Test your functions from a randomly generated $n \\times n$ matrix."
   ]
  },
  {
   "cell_type": "code",
   "execution_count": 9,
   "metadata": {},
   "outputs": [
    {
     "name": "stdout",
     "output_type": "stream",
     "text": [
      "Randomly Generated Matrix:\n",
      "[[0.56145786 0.56941704]\n",
      " [0.7793607  0.17070608]]\n",
      "\n",
      "Det = -0.3479369929463724\n",
      "\n",
      "Eigenvalues:\n",
      "[ 1.06031032 -0.32814638]\n",
      "\n",
      "Eigenvectors:\n",
      "[[ 0.75217556 -0.53910093]\n",
      " [ 0.65896277  0.84224117]]\n",
      "\n"
     ]
    }
   ],
   "source": [
    "import numpy as np\n",
    "\n",
    "# 1) Finding the Determinant of a matrix\n",
    "\n",
    "def det(matrix):\n",
    "\n",
    "    if len(matrix.shape) != 2 or matrix.shape[0] != matrix.shape[1]:\n",
    "        raise ValueError(\"Matrix must be square.\")\n",
    "\n",
    "    if matrix.shape[0] == 1:\n",
    "        return matrix[0][0]\n",
    "\n",
    "    det_value = 0\n",
    "\n",
    "    for col in range(matrix.shape[0]):\n",
    "        cofactor = matrix[0][col] * det(\n",
    "            np.delete(np.delete(matrix, 0, 0), col, 1))\n",
    "        det_value += (-1) ** col * cofactor\n",
    "\n",
    "    return det_value\n",
    "\n",
    "# 2) Finding the Eigenvalues and Eigenvectors\n",
    "\n",
    "def eigen(matrix):\n",
    "\n",
    "    if len(matrix.shape) != 2 or matrix.shape[0] != matrix.shape[1]:\n",
    "        raise ValueError(\"Matrix must be square.\")\n",
    "\n",
    "    eigenvalues, eigenvectors = np.linalg.eig(matrix)\n",
    "\n",
    "    return eigenvalues, eigenvectors\n",
    "\n",
    "# 3) function tests with a randomly generated nxn matrix\n",
    "n = 2\n",
    "random_matrix = np.random.rand(n, n)\n",
    "\n",
    "det_value = det(random_matrix)\n",
    "eigenvalues, eigenvectors = eigen(random_matrix)\n",
    "\n",
    "print(f\"Randomly Generated Matrix:\\n{random_matrix}\\n\")\n",
    "print(f\"Det = {det_value}\\n\")\n",
    "print(f\"Eigenvalues:\\n{eigenvalues}\\n\")\n",
    "print(f\"Eigenvectors:\\n{eigenvectors}\\n\")\n"
   ]
  }
 ],
 "metadata": {
  "kernelspec": {
   "display_name": "Python 3",
   "language": "python",
   "name": "python3"
  },
  "language_info": {
   "codemirror_mode": {
    "name": "ipython",
    "version": 3
   },
   "file_extension": ".py",
   "mimetype": "text/x-python",
   "name": "python",
   "nbconvert_exporter": "python",
   "pygments_lexer": "ipython3",
   "version": "3.11.5"
  }
 },
 "nbformat": 4,
 "nbformat_minor": 2
}
